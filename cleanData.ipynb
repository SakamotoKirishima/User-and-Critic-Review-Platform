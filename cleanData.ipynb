{
 "cells": [
  {
   "cell_type": "code",
   "execution_count": 96,
   "metadata": {
    "pycharm": {
     "is_executing": false
    }
   },
   "outputs": [],
   "source": [
    "import pandas\n",
    "import ast"
   ]
  },
  {
   "cell_type": "code",
   "execution_count": 97,
   "metadata": {
    "pycharm": {
     "is_executing": false,
     "name": "#%%\n"
    }
   },
   "outputs": [
    {
     "data": {
      "text/plain": "Index(['cast', 'crew', 'id'], dtype='object')"
     },
     "metadata": {},
     "output_type": "execute_result",
     "execution_count": 97
    }
   ],
   "source": [
    "creditsDf= pandas.read_csv('credits.csv')\n",
    "creditsDf.columns\n"
   ]
  },
  {
   "cell_type": "code",
   "execution_count": 98,
   "metadata": {
    "pycharm": {
     "is_executing": false
    }
   },
   "outputs": [],
   "source": [
    "cell= ast.literal_eval(creditsDf.iloc[0]['cast'])"
   ]
  },
  {
   "cell_type": "code",
   "execution_count": 99,
   "metadata": {
    "pycharm": {
     "is_executing": false
    }
   },
   "outputs": [
    {
     "data": {
      "text/plain": "{'cast_id': 14,\n 'character': 'Woody (voice)',\n 'credit_id': '52fe4284c3a36847f8024f95',\n 'gender': 2,\n 'id': 31,\n 'name': 'Tom Hanks',\n 'order': 0,\n 'profile_path': '/pQFoyx7rp09CJTAb932F2g8Nlho.jpg'}"
     },
     "metadata": {},
     "output_type": "execute_result",
     "execution_count": 99
    }
   ],
   "source": [
    "cell[0]"
   ]
  },
  {
   "cell_type": "code",
   "execution_count": 100,
   "metadata": {
    "pycharm": {
     "is_executing": false,
     "name": "#%%\n"
    }
   },
   "outputs": [
    {
     "data": {
      "text/plain": "Index(['id', 'keywords'], dtype='object')"
     },
     "metadata": {},
     "output_type": "execute_result",
     "execution_count": 100
    }
   ],
   "source": [
    "keywordsDf=pandas.read_csv('keywords.csv')\n",
    "keywordsDf.columns"
   ]
  },
  {
   "cell_type": "code",
   "execution_count": 101,
   "metadata": {
    "pycharm": {
     "is_executing": false,
     "name": "#%%\n"
    }
   },
   "outputs": [
    {
     "name": "stderr",
     "text": [
      "/home/mathangi/anaconda3/envs/lehigh/lib/python3.7/site-packages/ipykernel_launcher.py:4: SettingWithCopyWarning: \nA value is trying to be set on a copy of a slice from a DataFrame\n\nSee the caveats in the documentation: http://pandas.pydata.org/pandas-docs/stable/user_guide/indexing.html#returning-a-view-versus-a-copy\n  after removing the cwd from sys.path.\n"
     ],
     "output_type": "stream"
    },
    {
     "data": {
      "text/plain": "   movieId     imdbId       id\n0        1  tt0114709    862.0\n1        2  tt0113497   8844.0\n2        3  tt0113228  15602.0\n3        4  tt0114885  31357.0\n4        5  tt0113041  11862.0",
      "text/html": "<div>\n<style scoped>\n    .dataframe tbody tr th:only-of-type {\n        vertical-align: middle;\n    }\n\n    .dataframe tbody tr th {\n        vertical-align: top;\n    }\n\n    .dataframe thead th {\n        text-align: right;\n    }\n</style>\n<table border=\"1\" class=\"dataframe\">\n  <thead>\n    <tr style=\"text-align: right;\">\n      <th></th>\n      <th>movieId</th>\n      <th>imdbId</th>\n      <th>id</th>\n    </tr>\n  </thead>\n  <tbody>\n    <tr>\n      <th>0</th>\n      <td>1</td>\n      <td>tt0114709</td>\n      <td>862.0</td>\n    </tr>\n    <tr>\n      <th>1</th>\n      <td>2</td>\n      <td>tt0113497</td>\n      <td>8844.0</td>\n    </tr>\n    <tr>\n      <th>2</th>\n      <td>3</td>\n      <td>tt0113228</td>\n      <td>15602.0</td>\n    </tr>\n    <tr>\n      <th>3</th>\n      <td>4</td>\n      <td>tt0114885</td>\n      <td>31357.0</td>\n    </tr>\n    <tr>\n      <th>4</th>\n      <td>5</td>\n      <td>tt0113041</td>\n      <td>11862.0</td>\n    </tr>\n  </tbody>\n</table>\n</div>"
     },
     "metadata": {},
     "output_type": "execute_result",
     "execution_count": 101
    }
   ],
   "source": [
    "linksDf= pandas.read_csv('links.csv')\n",
    "linksDf=linksDf.rename(columns={'tmdbId':'id'})\n",
    "for i in range(len(linksDf['imdbId'])):\n",
    "    linksDf['imdbId'][i]='tt'+'0'*(7-len(str(linksDf['imdbId'][i])))+str(linksDf['imdbId'][i])\n",
    "linksDf.head()"
   ]
  },
  {
   "cell_type": "code",
   "execution_count": 102,
   "metadata": {
    "pycharm": {
     "is_executing": false,
     "name": "#%%\n"
    }
   },
   "outputs": [
    {
     "data": {
      "text/plain": "0        tt0114709\n1        tt0113497\n2        tt0113228\n3        tt0114885\n4        tt0113041\n           ...    \n45461    tt6209470\n45462    tt2028550\n45463    tt0303758\n45464    tt0008536\n45465    tt6980792\nName: imdb_id, Length: 45466, dtype: object"
     },
     "metadata": {},
     "output_type": "execute_result",
     "execution_count": 102
    }
   ],
   "source": [
    "metaDataDf= pandas.read_csv('movies_metadata.csv')\n",
    "# metaDataDf=metaDataDf['id'].astype('int64')\n",
    "metaDataDf['imdb_id']\n"
   ]
  },
  {
   "cell_type": "code",
   "execution_count": 103,
   "metadata": {
    "pycharm": {
     "is_executing": false,
     "name": "#%%\n"
    }
   },
   "outputs": [
    {
     "data": {
      "text/plain": "Index(['userId', 'movieId', 'rating', 'timestamp'], dtype='object')"
     },
     "metadata": {},
     "output_type": "execute_result",
     "execution_count": 103
    }
   ],
   "source": [
    "ratingsDf= pandas.read_csv('ratings.csv')\n",
    "ratingsDf.columns"
   ]
  },
  {
   "cell_type": "code",
   "execution_count": 104,
   "metadata": {
    "pycharm": {
     "is_executing": false,
     "name": "#%%\n"
    }
   },
   "outputs": [
    {
     "data": {
      "text/plain": "Index(['cast', 'crew', 'id', 'keywords', 'movieId', 'imdbId', 'adult',\n       'belongs_to_collection', 'budget', 'genres', 'homepage', 'imdb_id',\n       'original_language', 'original_title', 'overview', 'popularity',\n       'poster_path', 'production_companies', 'production_countries',\n       'release_date', 'revenue', 'runtime', 'spoken_languages', 'status',\n       'tagline', 'title', 'video', 'vote_average', 'vote_count'],\n      dtype='object')"
     },
     "metadata": {},
     "output_type": "execute_result",
     "execution_count": 104
    }
   ],
   "source": [
    "combinedDf= pandas.DataFrame()\n",
    "combinedDf= pandas.concat([combinedDf,creditsDf],axis=1)\n",
    "combinedDf = combinedDf.merge(keywordsDf, on='id', how = 'inner')\n",
    "combinedDf = combinedDf.merge(linksDf, on='id', how = 'inner')\n",
    "combinedDf['id']=combinedDf['id'].astype('object')\n",
    "combinedDf = combinedDf.merge(metaDataDf, how='inner', left_on='imdbId', right_on='imdb_id')\n",
    "combinedDf=combinedDf.drop('id_y', axis=1)\n",
    "combinedDf=combinedDf.rename(columns={'id_x':'id'})\n",
    "combinedDf.columns\n",
    "\n"
   ]
  },
  {
   "cell_type": "code",
   "execution_count": 105,
   "metadata": {
    "pycharm": {
     "name": "#%%\n",
     "is_executing": false
    }
   },
   "outputs": [],
   "source": [
    "combinedDf.to_csv('allData.csv')\n",
    "\n"
   ]
  }
 ],
 "metadata": {
  "kernelspec": {
   "display_name": "PyCharm (sherlock)",
   "language": "python",
   "name": "pycharm-e96f382b"
  },
  "language_info": {
   "codemirror_mode": {
    "name": "ipython",
    "version": 3
   },
   "file_extension": ".py",
   "mimetype": "text/x-python",
   "name": "python",
   "nbconvert_exporter": "python",
   "pygments_lexer": "ipython3",
   "version": "3.7.4"
  },
  "pycharm": {
   "stem_cell": {
    "cell_type": "raw",
    "source": [],
    "metadata": {
     "collapsed": false
    }
   }
  }
 },
 "nbformat": 4,
 "nbformat_minor": 1
}